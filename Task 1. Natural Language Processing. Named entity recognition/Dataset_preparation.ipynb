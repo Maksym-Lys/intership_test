{
 "cells": [
  {
   "cell_type": "markdown",
   "id": "2904b4f2",
   "metadata": {},
   "source": [
    "# NER dataset preparation"
   ]
  },
  {
   "cell_type": "code",
   "execution_count": 1,
   "id": "ef28c9a4",
   "metadata": {},
   "outputs": [],
   "source": [
    "# import libraries\n",
    "import requests\n",
    "import spacy\n",
    "import random\n",
    "import re\n",
    "import numpy as np\n",
    "import pandas as pd\n",
    "import matplotlib.pyplot as plt"
   ]
  },
  {
   "cell_type": "code",
   "execution_count": 2,
   "id": "93b706b3",
   "metadata": {},
   "outputs": [],
   "source": [
    "def load_data_from_github(url):\n",
    "    \"\"\"\n",
    "    Loads data from a specified URL on GitHub.\n",
    "\n",
    "    Arguments:\n",
    "    - url (str): The URL pointing to the raw data on GitHub.\n",
    "\n",
    "    Returns:\n",
    "    - text (str): Content retrieved from the specified URL.\n",
    "    \"\"\"\n",
    "    response = requests.get(url)\n",
    "    if response.status_code == 200:\n",
    "        text = response.text\n",
    "        return text\n",
    "    else:\n",
    "        raise requests.HTTPError(f\"Failed to retrieve content. Status code: {response.status_code}\")"
   ]
  },
  {
   "cell_type": "code",
   "execution_count": 3,
   "id": "e11a8616",
   "metadata": {},
   "outputs": [],
   "source": [
    "# download \"back-bone\" dataset\n",
    "\n",
    "science_block_1 = r\"https://raw.githubusercontent.com/zliucr/CrossNER/main/ner_data/science/train.txt\"\n",
    "science_block_2 = r\"https://raw.githubusercontent.com/zliucr/CrossNER/main/ner_data/science/dev.txt\"\n",
    "science_block_3 = r\"https://raw.githubusercontent.com/zliucr/CrossNER/main/ner_data/science/test.txt\"\n",
    "\n",
    "science_block_1_data = load_data_from_github(url=science_block_1)\n",
    "science_block_2_data = load_data_from_github(url=science_block_2)\n",
    "science_block_3_data = load_data_from_github(url=science_block_3)"
   ]
  },
  {
   "cell_type": "code",
   "execution_count": 4,
   "id": "381122ce",
   "metadata": {},
   "outputs": [
    {
     "name": "stdout",
     "output_type": "stream",
     "text": [
      "Number of sentences in dataset without custom mountain's data: 1173 instances.\n"
     ]
    }
   ],
   "source": [
    "# create Pandas dataframe from \"back-bone\" dataset\n",
    "lines = []\n",
    "lines.extend(science_block_1_data.strip().split('\\n'))\n",
    "lines.extend(science_block_2_data.strip().split('\\n'))\n",
    "lines.extend(science_block_3_data.strip().split('\\n'))\n",
    "\n",
    "sentences = []\n",
    "words = []\n",
    "labels = []\n",
    "\n",
    "for line in lines:\n",
    "    parts = line.split('\\t')\n",
    "    if len(parts) == 2:\n",
    "        word, label = parts\n",
    "        if word == '.':\n",
    "            sentences.append({'Words': words, 'Labels': labels})\n",
    "            words = []\n",
    "            labels = []\n",
    "        else:\n",
    "            words.append(word)\n",
    "            labels.append(label)\n",
    "\n",
    "df_without_custom_data = pd.DataFrame(sentences)\n",
    "\n",
    "print(f\"Number of sentences in dataset without custom mountain's data: {len(df_without_custom_data)} instances.\")"
   ]
  },
  {
   "cell_type": "code",
   "execution_count": 5,
   "id": "5e8f6b01",
   "metadata": {},
   "outputs": [],
   "source": [
    "# open lists with entities for creating labels\n",
    "with open(r\"Additional data\\sentences.txt\", \"r\") as file:\n",
    "    list_of_sentences_raw = file.readlines()\n",
    "list_of_sentences = [line for line in list_of_sentences_raw if \"\\n\" !=line]\n",
    "\n",
    "with open(r\"Additional data\\astronomical.txt\", \"r\") as file:\n",
    "    list_of_astronomical = file.readlines()\n",
    "with open(r\"Additional data\\countries.txt\", \"r\") as file:\n",
    "    list_of_countries = file.readlines()\n",
    "with open(r\"Additional data\\locations.txt\", \"r\") as file:\n",
    "    list_of_locations = file.readlines()\n",
    "with open(r\"Additional data\\scientists.txt\", \"r\") as file:\n",
    "    list_of_scientists = file.readlines()\n",
    "with open(r\"Additional data\\mountains.txt\", \"r\") as file:\n",
    "    list_of_mountains = file.readlines()\n",
    "\n",
    "list_of_astronomical = list(set(list_of_astronomical))\n",
    "list_of_countries = list(set(list_of_countries))\n",
    "list_of_locations = list(set(list_of_locations))\n",
    "list_of_scientists = list(set(list_of_scientists))\n",
    "list_of_mountains = list(set(list_of_mountains))"
   ]
  },
  {
   "cell_type": "code",
   "execution_count": 6,
   "id": "a8edee54",
   "metadata": {},
   "outputs": [],
   "source": [
    "def generate_word_positions(list_of_names):\n",
    "    \"\"\"\n",
    "    Generates lists of beginning (B) and inside (I) positions of words from a list of names.\n",
    "\n",
    "    Arguments:\n",
    "    - list_of_names (list): A list of names, each name represented as a string.\n",
    "\n",
    "    Returns:\n",
    "    - B (list): List of first words (B) from each name in the input list.\n",
    "    - I (list): List of inside words (I) from the names, excluding the first words.\n",
    "    \"\"\"\n",
    "    B = []\n",
    "    I = []\n",
    "    for name in list_of_names:\n",
    "        words = name.strip().split()\n",
    "        B.append(words[0])\n",
    "        if len(words) >= 2:\n",
    "            I.extend(words[1:])\n",
    "    return B, I"
   ]
  },
  {
   "cell_type": "code",
   "execution_count": 7,
   "id": "b8ff42d4",
   "metadata": {},
   "outputs": [],
   "source": [
    "# sort entities by labels\n",
    "B_astronomical, I_astronomical = generate_word_positions(list_of_astronomical)\n",
    "B_countries, I_countries = generate_word_positions(list_of_countries)\n",
    "B_locations, I_locations = generate_word_positions(list_of_locations)\n",
    "B_scientists, I_scientists = generate_word_positions(list_of_scientists)\n",
    "B_mountains, I_mountains = generate_word_positions(list_of_mountains)"
   ]
  },
  {
   "cell_type": "code",
   "execution_count": 8,
   "id": "679db3d3",
   "metadata": {},
   "outputs": [],
   "source": [
    "# create list of all labels\n",
    "All_labeled_words = []\n",
    "\n",
    "All_labeled_words.extend(B_astronomical)\n",
    "All_labeled_words.extend(B_countries)\n",
    "All_labeled_words.extend(B_locations)\n",
    "All_labeled_words.extend(B_scientists)\n",
    "All_labeled_words.extend(B_mountains)\n",
    "\n",
    "All_labeled_words.extend(I_astronomical)\n",
    "All_labeled_words.extend(I_countries)\n",
    "All_labeled_words.extend(I_locations)\n",
    "All_labeled_words.extend(I_scientists)\n",
    "All_labeled_words.extend(I_mountains)"
   ]
  },
  {
   "cell_type": "code",
   "execution_count": 9,
   "id": "9e6c7a26",
   "metadata": {},
   "outputs": [
    {
     "name": "stdout",
     "output_type": "stream",
     "text": [
      "✔ Download and installation successful\n",
      "You can now load the package via spacy.load('en_core_web_sm')\n"
     ]
    }
   ],
   "source": [
    "# download Spacy and created text similar to \"back-bone\"\n",
    "spacy.cli.download('en_core_web_sm')\n",
    "nlp = spacy.load('en_core_web_sm')\n",
    "generated_data = \"\"\n",
    "\n",
    "for sentence in list_of_sentences:\n",
    "    doc = nlp(sentence)\n",
    "    words = [token.text for token in doc]\n",
    "    words = words[:-1]\n",
    "    for word in words:\n",
    "        label = \"\"\n",
    "        if word not in All_labeled_words:\n",
    "            label = \"O\"\n",
    "        else:\n",
    "            if word in B_astronomical:\n",
    "                label = \"B-astronomicalobject\"\n",
    "            elif word in I_astronomical:\n",
    "                label = \"I-astronomicalobject\"\n",
    "            elif word in B_countries:\n",
    "                label = \"B-country\"\n",
    "            elif word in I_countries:\n",
    "                label = \"I-country\"\n",
    "            elif word in B_locations:\n",
    "                label = \"B-location\"\n",
    "            elif word in I_locations:\n",
    "                label = \"I-location\"\n",
    "            elif word in B_scientists:\n",
    "                label = \"B-scientist\"\n",
    "            elif word in I_scientists:\n",
    "                label = \"I-scientist\"\n",
    "            elif word in B_mountains:\n",
    "                label = \"B-mountain\"\n",
    "            elif word in I_mountains:\n",
    "                label = \"I-mountain\"\n",
    "        generated_data += f\"{word}\\t{label}\\n\""
   ]
  },
  {
   "cell_type": "code",
   "execution_count": 10,
   "id": "bb49c4c9",
   "metadata": {},
   "outputs": [],
   "source": [
    "# create Pandas dataframe from custom dataset\n",
    "lines = []\n",
    "lines.extend(generated_data.strip().split('\\n'))\n",
    "\n",
    "sentences = []\n",
    "words = []\n",
    "labels = []\n",
    "\n",
    "for line in lines:\n",
    "    parts = line.split('\\t')\n",
    "    if len(parts) == 2:\n",
    "        word, label = parts\n",
    "        if word == '.':\n",
    "            sentences.append({'Words': words, 'Labels': labels})\n",
    "            words = []\n",
    "            labels = []\n",
    "        else:\n",
    "            words.append(word)\n",
    "            labels.append(label)\n",
    "\n",
    "df_custom_data = pd.DataFrame(sentences)"
   ]
  },
  {
   "cell_type": "code",
   "execution_count": 11,
   "id": "e0de57f6",
   "metadata": {},
   "outputs": [
    {
     "data": {
      "text/html": [
       "<div>\n",
       "<style scoped>\n",
       "    .dataframe tbody tr th:only-of-type {\n",
       "        vertical-align: middle;\n",
       "    }\n",
       "\n",
       "    .dataframe tbody tr th {\n",
       "        vertical-align: top;\n",
       "    }\n",
       "\n",
       "    .dataframe thead th {\n",
       "        text-align: right;\n",
       "    }\n",
       "</style>\n",
       "<table border=\"1\" class=\"dataframe\">\n",
       "  <thead>\n",
       "    <tr style=\"text-align: right;\">\n",
       "      <th></th>\n",
       "      <th>Words</th>\n",
       "      <th>Labels</th>\n",
       "    </tr>\n",
       "  </thead>\n",
       "  <tbody>\n",
       "    <tr>\n",
       "      <th>0</th>\n",
       "      <td>[Everest, ,, known, for, its, towering, height...</td>\n",
       "      <td>[B-mountain, O, O, O, O, O, O, O, O, O, O, O, ...</td>\n",
       "    </tr>\n",
       "    <tr>\n",
       "      <th>1</th>\n",
       "      <td>[The, Rocky, Weißkugel, stretch, across, multi...</td>\n",
       "      <td>[O, O, B-mountain, O, O, O, O, O, O, B-locatio...</td>\n",
       "    </tr>\n",
       "    <tr>\n",
       "      <th>2</th>\n",
       "      <td>[K2, ,, the, second, -, highest, peak, in, the...</td>\n",
       "      <td>[B-mountain, O, O, O, O, O, O, O, O, O, O, O, ...</td>\n",
       "    </tr>\n",
       "    <tr>\n",
       "      <th>3</th>\n",
       "      <td>[The, Andes, ,, the, longest, mountain, range,...</td>\n",
       "      <td>[O, B-mountain, O, O, O, O, O, O, B-astronomic...</td>\n",
       "    </tr>\n",
       "    <tr>\n",
       "      <th>4</th>\n",
       "      <td>[Mount, Kilimanjaro, ,, Africa, 's, tallest, p...</td>\n",
       "      <td>[O, B-mountain, O, B-location, O, O, O, O, O, ...</td>\n",
       "    </tr>\n",
       "  </tbody>\n",
       "</table>\n",
       "</div>"
      ],
      "text/plain": [
       "                                               Words  \\\n",
       "0  [Everest, ,, known, for, its, towering, height...   \n",
       "1  [The, Rocky, Weißkugel, stretch, across, multi...   \n",
       "2  [K2, ,, the, second, -, highest, peak, in, the...   \n",
       "3  [The, Andes, ,, the, longest, mountain, range,...   \n",
       "4  [Mount, Kilimanjaro, ,, Africa, 's, tallest, p...   \n",
       "\n",
       "                                              Labels  \n",
       "0  [B-mountain, O, O, O, O, O, O, O, O, O, O, O, ...  \n",
       "1  [O, O, B-mountain, O, O, O, O, O, O, B-locatio...  \n",
       "2  [B-mountain, O, O, O, O, O, O, O, O, O, O, O, ...  \n",
       "3  [O, B-mountain, O, O, O, O, O, O, B-astronomic...  \n",
       "4  [O, B-mountain, O, B-location, O, O, O, O, O, ...  "
      ]
     },
     "execution_count": 11,
     "metadata": {},
     "output_type": "execute_result"
    }
   ],
   "source": [
    "# custom dataset\n",
    "df_custom_data.head()"
   ]
  },
  {
   "cell_type": "code",
   "execution_count": 12,
   "id": "3151e73b",
   "metadata": {},
   "outputs": [
    {
     "data": {
      "text/html": [
       "<div>\n",
       "<style scoped>\n",
       "    .dataframe tbody tr th:only-of-type {\n",
       "        vertical-align: middle;\n",
       "    }\n",
       "\n",
       "    .dataframe tbody tr th {\n",
       "        vertical-align: top;\n",
       "    }\n",
       "\n",
       "    .dataframe thead th {\n",
       "        text-align: right;\n",
       "    }\n",
       "</style>\n",
       "<table border=\"1\" class=\"dataframe\">\n",
       "  <thead>\n",
       "    <tr style=\"text-align: right;\">\n",
       "      <th></th>\n",
       "      <th>Words</th>\n",
       "      <th>Labels</th>\n",
       "    </tr>\n",
       "  </thead>\n",
       "  <tbody>\n",
       "    <tr>\n",
       "      <th>0</th>\n",
       "      <td>[They, may, also, use, Adenosine, triphosphate...</td>\n",
       "      <td>[O, O, O, O, B-chemicalcompound, I-chemicalcom...</td>\n",
       "    </tr>\n",
       "    <tr>\n",
       "      <th>1</th>\n",
       "      <td>[August, Kopff, ,, a, colleague, of, Wolf, at,...</td>\n",
       "      <td>[B-scientist, I-scientist, O, O, O, O, B-scien...</td>\n",
       "    </tr>\n",
       "    <tr>\n",
       "      <th>2</th>\n",
       "      <td>[The, five, bodies, currently, called, planets...</td>\n",
       "      <td>[O, O, O, O, O, O, O, O, O, O, O, B-misc, O, O...</td>\n",
       "    </tr>\n",
       "    <tr>\n",
       "      <th>3</th>\n",
       "      <td>[Several, genes, known, to, be, affected, by, ...</td>\n",
       "      <td>[O, O, O, O, O, O, O, O, O, O, O, B-protein, O...</td>\n",
       "    </tr>\n",
       "    <tr>\n",
       "      <th>4</th>\n",
       "      <td>[Hall, also, parodied, the, song, as, Cell, Bl...</td>\n",
       "      <td>[B-person, O, O, O, O, O, B-misc, I-misc, I-mi...</td>\n",
       "    </tr>\n",
       "  </tbody>\n",
       "</table>\n",
       "</div>"
      ],
      "text/plain": [
       "                                               Words  \\\n",
       "0  [They, may, also, use, Adenosine, triphosphate...   \n",
       "1  [August, Kopff, ,, a, colleague, of, Wolf, at,...   \n",
       "2  [The, five, bodies, currently, called, planets...   \n",
       "3  [Several, genes, known, to, be, affected, by, ...   \n",
       "4  [Hall, also, parodied, the, song, as, Cell, Bl...   \n",
       "\n",
       "                                              Labels  \n",
       "0  [O, O, O, O, B-chemicalcompound, I-chemicalcom...  \n",
       "1  [B-scientist, I-scientist, O, O, O, O, B-scien...  \n",
       "2  [O, O, O, O, O, O, O, O, O, O, O, B-misc, O, O...  \n",
       "3  [O, O, O, O, O, O, O, O, O, O, O, B-protein, O...  \n",
       "4  [B-person, O, O, O, O, O, B-misc, I-misc, I-mi...  "
      ]
     },
     "execution_count": 12,
     "metadata": {},
     "output_type": "execute_result"
    }
   ],
   "source": [
    "# \"back-bone\" dataset\n",
    "df_without_custom_data.head()"
   ]
  },
  {
   "cell_type": "code",
   "execution_count": 13,
   "id": "659e4dd1",
   "metadata": {},
   "outputs": [],
   "source": [
    "# choose small fraction of \"back-bone\" dataset\n",
    "df_without_custom_data_frac = df_without_custom_data.sample(frac=0.2, random_state=42)"
   ]
  },
  {
   "cell_type": "markdown",
   "id": "d9cef8be",
   "metadata": {},
   "source": [
    "histogram that shows a distributions of sentences length in custom dataset and \"back-bone\" dataset"
   ]
  },
  {
   "cell_type": "code",
   "execution_count": 14,
   "id": "36041899",
   "metadata": {},
   "outputs": [
    {
     "data": {
      "image/png": "[encoded data removed]",
      "text/plain": [
       "<Figure size 1400x500 with 1 Axes>"
      ]
     },
     "metadata": {},
     "output_type": "display_data"
    }
   ],
   "source": [
    "plt.figure(figsize=(14, 5))\n",
    "\n",
    "# Histogram for df_without_custom_data\n",
    "lengths = [len(word) for word in df_without_custom_data_frac[\"Words\"]]\n",
    "plt.hist(lengths, bins=40, alpha=0.5, label='Downloaded dataset')\n",
    "\n",
    "# Histogram for df_custom_data\n",
    "lengths = [len(word) for word in df_custom_data[\"Words\"]]\n",
    "plt.hist(lengths, bins=40, alpha=0.5, label='Created dataset', color=\"red\")\n",
    "\n",
    "plt.xlabel('Word Length')\n",
    "plt.ylabel('Frequency')\n",
    "plt.title('Distribution of Word Lengths')\n",
    "plt.grid()\n",
    "plt.legend();"
   ]
  },
  {
   "cell_type": "code",
   "execution_count": 15,
   "id": "f866a62e",
   "metadata": {},
   "outputs": [],
   "source": [
    "#  concatenation of custom dataset and \"back-bone\" dataset\n",
    "df_concatenated = pd.concat([df_custom_data, df_without_custom_data_frac], axis=0)\n",
    "df_concatenated = df_concatenated.sample(frac=1, random_state=42)\n",
    "df_concatenated = df_concatenated.reset_index(drop=True)"
   ]
  },
  {
   "cell_type": "code",
   "execution_count": 16,
   "id": "12d5ca2a",
   "metadata": {},
   "outputs": [],
   "source": [
    "def return_text(x):\n",
    "    \"\"\"\n",
    "    Joins a list of strings into a single string with spaces in between each element.\n",
    "\n",
    "    Arguments:\n",
    "    - x (list of str): List of strings to be concatenated.\n",
    "\n",
    "    Returns:\n",
    "    - text (str): A single string containing all elements of the list separated by spaces.\n",
    "    \"\"\"\n",
    "    return ' '.join(x)"
   ]
  },
  {
   "cell_type": "code",
   "execution_count": 17,
   "id": "c973e718",
   "metadata": {},
   "outputs": [],
   "source": [
    "# cals lists into strings\n",
    "df_concatenated[\"Words\"] = df_concatenated[\"Words\"].apply(return_text)\n",
    "df_concatenated[\"Labels\"] = df_concatenated[\"Labels\"].apply(return_text)"
   ]
  },
  {
   "cell_type": "code",
   "execution_count": 18,
   "id": "000a9e55",
   "metadata": {
    "scrolled": true
   },
   "outputs": [
    {
     "data": {
      "text/html": [
       "<div>\n",
       "<style scoped>\n",
       "    .dataframe tbody tr th:only-of-type {\n",
       "        vertical-align: middle;\n",
       "    }\n",
       "\n",
       "    .dataframe tbody tr th {\n",
       "        vertical-align: top;\n",
       "    }\n",
       "\n",
       "    .dataframe thead th {\n",
       "        text-align: right;\n",
       "    }\n",
       "</style>\n",
       "<table border=\"1\" class=\"dataframe\">\n",
       "  <thead>\n",
       "    <tr style=\"text-align: right;\">\n",
       "      <th></th>\n",
       "      <th>Words</th>\n",
       "      <th>Labels</th>\n",
       "    </tr>\n",
       "  </thead>\n",
       "  <tbody>\n",
       "    <tr>\n",
       "      <th>0</th>\n",
       "      <td>Pupin was a founding member of National Adviso...</td>\n",
       "      <td>B-scientist O O O O O B-organisation I-organis...</td>\n",
       "    </tr>\n",
       "    <tr>\n",
       "      <th>1</th>\n",
       "      <td>Published in 1993 , it won the 1994 Nebula Awa...</td>\n",
       "      <td>O O O O O O O O B-award I-award I-award I-awar...</td>\n",
       "    </tr>\n",
       "    <tr>\n",
       "      <th>2</th>\n",
       "      <td>Auroras have been observed on both gas planets...</td>\n",
       "      <td>B-misc O O O O O B-misc I-misc O O O O O B-mis...</td>\n",
       "    </tr>\n",
       "    <tr>\n",
       "      <th>3</th>\n",
       "      <td>Observing wildlife behavior around Elbrus unco...</td>\n",
       "      <td>O O O O B-mountain O O O O O O O O O O O O O O...</td>\n",
       "    </tr>\n",
       "    <tr>\n",
       "      <th>4</th>\n",
       "      <td>He studied at CMS College Kottayam , and gradu...</td>\n",
       "      <td>O O O B-university I-university I-university O...</td>\n",
       "    </tr>\n",
       "  </tbody>\n",
       "</table>\n",
       "</div>"
      ],
      "text/plain": [
       "                                               Words  \\\n",
       "0  Pupin was a founding member of National Adviso...   \n",
       "1  Published in 1993 , it won the 1994 Nebula Awa...   \n",
       "2  Auroras have been observed on both gas planets...   \n",
       "3  Observing wildlife behavior around Elbrus unco...   \n",
       "4  He studied at CMS College Kottayam , and gradu...   \n",
       "\n",
       "                                              Labels  \n",
       "0  B-scientist O O O O O B-organisation I-organis...  \n",
       "1  O O O O O O O O B-award I-award I-award I-awar...  \n",
       "2  B-misc O O O O O B-misc I-misc O O O O O B-mis...  \n",
       "3  O O O O B-mountain O O O O O O O O O O O O O O...  \n",
       "4  O O O B-university I-university I-university O...  "
      ]
     },
     "execution_count": 18,
     "metadata": {},
     "output_type": "execute_result"
    }
   ],
   "source": [
    "# concatenated dataset\n",
    "df_concatenated.head()"
   ]
  },
  {
   "cell_type": "code",
   "execution_count": 19,
   "id": "0d0c26e1",
   "metadata": {},
   "outputs": [],
   "source": [
    "# save dataset for NER task\n",
    "df_concatenated.to_csv(\"Dataset.csv\", index=False)"
   ]
  },
  {
   "cell_type": "code",
   "execution_count": null,
   "id": "ed648fe5",
   "metadata": {},
   "outputs": [],
   "source": []
  }
 ],
 "metadata": {
  "kernelspec": {
   "display_name": "Python 3 (ipykernel)",
   "language": "python",
   "name": "python3"
  },
  "language_info": {
   "codemirror_mode": {
    "name": "ipython",
    "version": 3
   },
   "file_extension": ".py",
   "mimetype": "text/x-python",
   "name": "python",
   "nbconvert_exporter": "python",
   "pygments_lexer": "ipython3",
   "version": "3.10.13"
  }
 },
 "nbformat": 4,
 "nbformat_minor": 5
}
